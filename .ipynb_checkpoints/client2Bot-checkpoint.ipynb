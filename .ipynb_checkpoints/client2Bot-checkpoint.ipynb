{
 "cells": [
  {
   "cell_type": "code",
   "execution_count": 41,
   "metadata": {},
   "outputs": [
    {
     "name": "stdout",
     "output_type": "stream",
     "text": [
      "Say something\n",
      "Time over\n",
      "TEXT: क्या हाल चाल है भाई\n",
      "{'id': 156914216, 'result': 'success', 'msg': ''}\n"
     ]
    }
   ],
   "source": [
    "import speech_recognition as sr\n",
    "import zulip\n",
    "\n",
    "r = sr.Recognizer()\n",
    "\n",
    "with sr.Microphone() as source:\n",
    "    print(\"Say something\")\n",
    "    r.adjust_for_ambient_noise(source)\n",
    "    audio = r.listen(source,timeout=5)\n",
    "    print(\"Time over\")\n",
    "\n",
    "\n",
    "\n",
    "cont = r.recognize_google(audio, language='hi-IN')\n",
    "print(\"TEXT: \" + cont)\n",
    "\n",
    "\n",
    "# Pass the path to your zuliprc file here.\n",
    "client = zulip.Client(config_file=\"./zuliprc\")\n",
    "\n",
    "# Send a stream message\n",
    "request = {\n",
    "    \"type\": \"private\",\n",
    "    \"to\": \"nlp-bot@unixloversaurabh.zulipchat.com\",\n",
    "    \"subject\": \"Castle\",\n",
    "    \"content\": cont\n",
    "}\n",
    "result = client.send_message(request)\n",
    "print(result)"
   ]
  },
  {
   "cell_type": "code",
   "execution_count": null,
   "metadata": {},
   "outputs": [],
   "source": []
  },
  {
   "cell_type": "code",
   "execution_count": 42,
   "metadata": {},
   "outputs": [
    {
     "ename": "AttributeError",
     "evalue": "'Client' object has no attribute 'get_messages'",
     "output_type": "error",
     "traceback": [
      "\u001b[0;31m---------------------------------------------------------------------------\u001b[0m",
      "\u001b[0;31mAttributeError\u001b[0m                            Traceback (most recent call last)",
      "\u001b[0;32m<ipython-input-42-1787177fe685>\u001b[0m in \u001b[0;36m<module>\u001b[0;34m()\u001b[0m\n\u001b[1;32m     12\u001b[0m }  # type: Dict[str, Any]\n\u001b[1;32m     13\u001b[0m \u001b[0;34m\u001b[0m\u001b[0m\n\u001b[0;32m---> 14\u001b[0;31m \u001b[0mresult\u001b[0m \u001b[0;34m=\u001b[0m \u001b[0mclient\u001b[0m\u001b[0;34m.\u001b[0m\u001b[0mget_messages\u001b[0m\u001b[0;34m(\u001b[0m\u001b[0mrequest\u001b[0m\u001b[0;34m)\u001b[0m\u001b[0;34m\u001b[0m\u001b[0;34m\u001b[0m\u001b[0m\n\u001b[0m\u001b[1;32m     15\u001b[0m \u001b[0mprint\u001b[0m\u001b[0;34m(\u001b[0m\u001b[0mresult\u001b[0m\u001b[0;34m[\u001b[0m\u001b[0;34m'messages'\u001b[0m\u001b[0;34m]\u001b[0m\u001b[0;34m[\u001b[0m\u001b[0;36m0\u001b[0m\u001b[0;34m]\u001b[0m\u001b[0;34m[\u001b[0m\u001b[0;34m'content'\u001b[0m\u001b[0;34m]\u001b[0m\u001b[0;34m)\u001b[0m\u001b[0;34m\u001b[0m\u001b[0;34m\u001b[0m\u001b[0m\n\u001b[1;32m     16\u001b[0m \u001b[0;31m#mess=result['messages'][0]['content']\u001b[0m\u001b[0;34m\u001b[0m\u001b[0;34m\u001b[0m\u001b[0;34m\u001b[0m\u001b[0m\n",
      "\u001b[0;31mAttributeError\u001b[0m: 'Client' object has no attribute 'get_messages'"
     ]
    }
   ],
   "source": [
    "# Pass the path to your zuliprc file here.\n",
    "client = zulip.Client(config_file=\"./zuliprc\")\n",
    "# Get the 3 last messages sent by \"iago@zulip.com\" to the stream \"Verona\"\n",
    "request = {\n",
    "   'use_first_unread_anchor': True,\n",
    "   'num_before': 3,\n",
    "   'num_after': 0,\n",
    "   'narrow': [{'operator': 'sender', 'operand': 'nlp-bot@unixloversaurabh.zulipchat.com'},\n",
    "              {'operator': 'is', 'operand': 'private'}],\n",
    "   'client_gravatar': True,\n",
    "   'apply_markdown': True\n",
    "}  # type: Dict[str, Any]\n",
    "\n",
    "\n",
    "\n",
    "result = client.get_messages(request)\n",
    "print(result['messages'][0]['content'])\n",
    "#mess=result['messages'][0]['content']"
   ]
  },
  {
   "cell_type": "code",
   "execution_count": null,
   "metadata": {},
   "outputs": [],
   "source": []
  }
 ],
 "metadata": {
  "kernelspec": {
   "display_name": "Python 3",
   "language": "python",
   "name": "python3"
  },
  "language_info": {
   "codemirror_mode": {
    "name": "ipython",
    "version": 3
   },
   "file_extension": ".py",
   "mimetype": "text/x-python",
   "name": "python",
   "nbconvert_exporter": "python",
   "pygments_lexer": "ipython3",
   "version": "3.6.7"
  }
 },
 "nbformat": 4,
 "nbformat_minor": 2
}
