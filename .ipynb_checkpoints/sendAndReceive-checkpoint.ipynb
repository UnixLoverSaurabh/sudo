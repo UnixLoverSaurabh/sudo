{
 "cells": [
  {
   "cell_type": "code",
   "execution_count": 1,
   "metadata": {},
   "outputs": [
    {
     "name": "stdout",
     "output_type": "stream",
     "text": [
      "pygame 1.9.4\n",
      "Hello from the pygame community. https://www.pygame.org/contribute.html\n"
     ]
    }
   ],
   "source": [
    "import tkinter\n",
    "import _thread\n",
    "import time\n",
    "import speech_recognition as sr\n",
    "import zulip\n",
    "import sys\n",
    "from gtts import gTTS\n",
    "from pygame import mixer\n",
    "import os\n",
    "import threading\n",
    "con=threading.Condition()\n",
    "flag=0\n"
   ]
  },
  {
   "cell_type": "code",
   "execution_count": 2,
   "metadata": {},
   "outputs": [],
   "source": [
    "def receive_thread( threadName, delay):\n",
    "    # Pass the path to your zuliprc file here.\n",
    "    client = zulip.Client(config_file=\"./zuliprc\")\n",
    "    global flag\n",
    "    prev = \"\"\n",
    "    while 1==1:\n",
    "        # Get the 3 last messages sent by \"iago@zulip.com\" to the stream \"Verona\"\n",
    "        con.acquire()\n",
    "        print(flag)\n",
    "        if flag==1:\n",
    "            print(\"flag++++++++++++++++++++++++++++++++++++++\")\n",
    "            return\n",
    "            receive_thread._Thread_stop()\n",
    "            receive_thread.exit()\n",
    "            break\n",
    "        con.release()\n",
    "        time.sleep(delay)\n",
    "        request = {\n",
    "           'use_first_unread_anchor': True,\n",
    "           'num_before': 1,\n",
    "           'num_after': 0,\n",
    "           'narrow': [{'operator': 'sender', 'operand': 'nlp-bot@unixloversaurabh.zulipchat.com'},\n",
    "                      {'operator': 'is', 'operand': 'private'}],\n",
    "           'client_gravatar': True,\n",
    "           'apply_markdown': True\n",
    "        }  # type: Dict[str, Any]\n",
    "        \n",
    "        result = client.get_messages(request)\n",
    "        print(result['messages'][0]['content'])\n",
    "        mess=result['messages'][0]['content']\n",
    "        print(mess)\n",
    "        if prev == mess:\n",
    "            continue\n",
    "        prev = mess\n",
    "        \n",
    "        mixer.init()\n",
    "        # Get the text and convert to mp3 file\n",
    "        tts = gTTS(text=mess[3:-4], lang='en',slow=False)\n",
    "        tts.save('speech{}.mp3'.format(0))\n",
    "        # playback the speech\n",
    "        mixer.music.load('speech{}.mp3'.format(0))\n",
    "        mixer.music.play()\n",
    "        # wait for playback to end\n",
    "        while mixer.music.get_busy():\n",
    "            time.sleep(.1)\n",
    "        mixer.stop()\n",
    "\n",
    "        # try to remove the temp files. You'll likely be left with 1 to clean up\n",
    "        try:\n",
    "            os.remove('speech0.mp3')\n",
    "        except:\n",
    "            pass"
   ]
  },
  {
   "cell_type": "code",
   "execution_count": 3,
   "metadata": {},
   "outputs": [],
   "source": [
    "def receive_message(msg):\n",
    "    \"\"\"Handles receiving of messages.\"\"\"\n",
    "    try:\n",
    "        _thread.start_new_thread( receive_thread, (\"Thread-1\", 5, ) )    \n",
    "    except:\n",
    "        print(\"At last thread create nahi po pa raha hai\")"
   ]
  },
  {
   "cell_type": "code",
   "execution_count": null,
   "metadata": {},
   "outputs": [],
   "source": []
  },
  {
   "cell_type": "code",
   "execution_count": 4,
   "metadata": {},
   "outputs": [],
   "source": [
    "# Define a function for the thread\n",
    "def send_thread():\n",
    "    r = sr.Recognizer()\n",
    "    with sr.Microphone() as source:\n",
    "        print(\"Say something\")\n",
    "        try:\n",
    "            r.adjust_for_ambient_noise(source)\n",
    "            audio = r.listen(source,timeout=5)\n",
    "        except r.UnknownValueError:\n",
    "            print(\"unkown value error\")\n",
    "        except r.RequestError as e:\n",
    "            print(\"request error\")\n",
    "        except:\n",
    "            print(\"At last thread create nahi po pa raha hai\")\n",
    "        print(\"Time over\")\n",
    "    \n",
    "    cont = r.recognize_google(audio, language='en-US')\n",
    "    msg_list.insert(tkinter.END, cont)\n",
    "    msg_list.see(tkinter.END)\n",
    "    print(\"TEXT: \" + cont)\n",
    "\n",
    "\n",
    "    # Pass the path to your zuliprc file here.\n",
    "    client = zulip.Client(config_file=\"./zuliprc\")\n",
    "\n",
    "    # Send a stream message\n",
    "    request = {\n",
    "       \"type\": \"private\",\n",
    "       \"to\": \"nlp-bot@unixloversaurabh.zulipchat.com\",\n",
    "       \"subject\": \"Castle\",\n",
    "       \"content\": cont\n",
    "    }\n",
    "    result = client.send_message(request)\n",
    "    print(result)\n"
   ]
  },
  {
   "cell_type": "code",
   "execution_count": null,
   "metadata": {},
   "outputs": [],
   "source": [
    "def send(event=None):  # event is passed by binders.\n",
    "    msg=send_thread()\n",
    "    print(msg)\n",
    "    my_msg.set(\"\")  # Clears input field.\n",
    "    if msg == \"{quit}\":\n",
    "        top.quit()"
   ]
  },
  {
   "cell_type": "code",
   "execution_count": null,
   "metadata": {},
   "outputs": [],
   "source": [
    "\n",
    "def setLang(banda,lang):\n",
    "    print(\"setting lang of bandas\")\n",
    "\n",
    "def doNot():\n",
    "    print(\"do nothing \")\n"
   ]
  },
  {
   "cell_type": "code",
   "execution_count": null,
   "metadata": {},
   "outputs": [],
   "source": [
    "def on_closing(event=None):\n",
    "    \"\"\"This function is to be called when the window is closed.\"\"\"\n",
    "    con.acquire()\n",
    "    flag=1;\n",
    "    con.release()\n",
    "    my_msg.set(\"{quit}\")\n",
    "    send()\n",
    "    sys.exit()"
   ]
  },
  {
   "cell_type": "code",
   "execution_count": null,
   "metadata": {
    "scrolled": false
   },
   "outputs": [
    {
     "name": "stdout",
     "output_type": "stream",
     "text": [
      "setting lang of bandas\n",
      "setting lang of bandas\n",
      "setting lang of bandas\n",
      "setting lang of bandas\n",
      "0\n"
     ]
    },
    {
     "name": "stderr",
     "output_type": "stream",
     "text": [
      "Unhandled exception in thread started by <function receive_thread at 0x7f512d5a76a8>\n"
     ]
    },
    {
     "ename": "AttributeError",
     "evalue": "'Client' object has no attribute 'get_messages'",
     "output_type": "error",
     "traceback": [
      "\u001b[0;31m---------------------------------------------------------------------------\u001b[0m",
      "\u001b[0;31mAttributeError\u001b[0m                            Traceback (most recent call last)",
      "\u001b[0;32m<ipython-input-2-d3b84b3552fe>\u001b[0m in \u001b[0;36mreceive_thread\u001b[0;34m(threadName, delay)\u001b[0m\n\u001b[1;32m     26\u001b[0m         }  # type: Dict[str, Any]\n\u001b[1;32m     27\u001b[0m \u001b[0;34m\u001b[0m\u001b[0m\n\u001b[0;32m---> 28\u001b[0;31m         \u001b[0mresult\u001b[0m \u001b[0;34m=\u001b[0m \u001b[0mclient\u001b[0m\u001b[0;34m.\u001b[0m\u001b[0mget_messages\u001b[0m\u001b[0;34m(\u001b[0m\u001b[0mrequest\u001b[0m\u001b[0;34m)\u001b[0m\u001b[0;34m\u001b[0m\u001b[0;34m\u001b[0m\u001b[0m\n\u001b[0m\u001b[1;32m     29\u001b[0m         \u001b[0mprint\u001b[0m\u001b[0;34m(\u001b[0m\u001b[0mresult\u001b[0m\u001b[0;34m[\u001b[0m\u001b[0;34m'messages'\u001b[0m\u001b[0;34m]\u001b[0m\u001b[0;34m[\u001b[0m\u001b[0;36m0\u001b[0m\u001b[0;34m]\u001b[0m\u001b[0;34m[\u001b[0m\u001b[0;34m'content'\u001b[0m\u001b[0;34m]\u001b[0m\u001b[0;34m)\u001b[0m\u001b[0;34m\u001b[0m\u001b[0;34m\u001b[0m\u001b[0m\n\u001b[1;32m     30\u001b[0m         \u001b[0mmess\u001b[0m\u001b[0;34m=\u001b[0m\u001b[0mresult\u001b[0m\u001b[0;34m[\u001b[0m\u001b[0;34m'messages'\u001b[0m\u001b[0;34m]\u001b[0m\u001b[0;34m[\u001b[0m\u001b[0;36m0\u001b[0m\u001b[0;34m]\u001b[0m\u001b[0;34m[\u001b[0m\u001b[0;34m'content'\u001b[0m\u001b[0;34m]\u001b[0m\u001b[0;34m\u001b[0m\u001b[0;34m\u001b[0m\u001b[0m\n",
      "\u001b[0;31mAttributeError\u001b[0m: 'Client' object has no attribute 'get_messages'"
     ]
    },
    {
     "name": "stdout",
     "output_type": "stream",
     "text": [
      "Say something\n",
      "Time over\n"
     ]
    },
    {
     "name": "stderr",
     "output_type": "stream",
     "text": [
      "Exception in Tkinter callback\n",
      "Traceback (most recent call last):\n",
      "  File \"/home/saurabh/anaconda/envs/nlp/lib/python3.6/tkinter/__init__.py\", line 1705, in __call__\n",
      "    return self.func(*args)\n",
      "  File \"<ipython-input-5-4a775c2bce94>\", line 2, in send\n",
      "    msg=send_thread()\n",
      "  File \"<ipython-input-4-ef50fd97bb45>\", line 17, in send_thread\n",
      "    cont = r.recognize_google(audio, language='en-US')\n",
      "  File \"/home/saurabh/anaconda/envs/nlp/lib/python3.6/site-packages/speech_recognition/__init__.py\", line 732, in recognize_google\n",
      "    response = urlopen(request, timeout=self.operation_timeout)\n",
      "  File \"/home/saurabh/anaconda/envs/nlp/lib/python3.6/urllib/request.py\", line 223, in urlopen\n",
      "    return opener.open(url, data, timeout)\n",
      "  File \"/home/saurabh/anaconda/envs/nlp/lib/python3.6/urllib/request.py\", line 526, in open\n",
      "    response = self._open(req, data)\n",
      "  File \"/home/saurabh/anaconda/envs/nlp/lib/python3.6/urllib/request.py\", line 544, in _open\n",
      "    '_open', req)\n",
      "  File \"/home/saurabh/anaconda/envs/nlp/lib/python3.6/urllib/request.py\", line 504, in _call_chain\n",
      "    result = func(*args)\n",
      "  File \"/home/saurabh/anaconda/envs/nlp/lib/python3.6/urllib/request.py\", line 1346, in http_open\n",
      "    return self.do_open(http.client.HTTPConnection, req)\n",
      "  File \"/home/saurabh/anaconda/envs/nlp/lib/python3.6/urllib/request.py\", line 1318, in do_open\n",
      "    encode_chunked=req.has_header('Transfer-encoding'))\n",
      "  File \"/home/saurabh/anaconda/envs/nlp/lib/python3.6/http/client.py\", line 1239, in request\n",
      "    self._send_request(method, url, body, headers, encode_chunked)\n",
      "  File \"/home/saurabh/anaconda/envs/nlp/lib/python3.6/http/client.py\", line 1285, in _send_request\n",
      "    self.endheaders(body, encode_chunked=encode_chunked)\n",
      "  File \"/home/saurabh/anaconda/envs/nlp/lib/python3.6/http/client.py\", line 1234, in endheaders\n",
      "    self._send_output(message_body, encode_chunked=encode_chunked)\n",
      "  File \"/home/saurabh/anaconda/envs/nlp/lib/python3.6/http/client.py\", line 1026, in _send_output\n",
      "    self.send(msg)\n",
      "  File \"/home/saurabh/anaconda/envs/nlp/lib/python3.6/http/client.py\", line 964, in send\n",
      "    self.connect()\n",
      "  File \"/home/saurabh/anaconda/envs/nlp/lib/python3.6/http/client.py\", line 936, in connect\n",
      "    (self.host,self.port), self.timeout, self.source_address)\n",
      "  File \"/home/saurabh/anaconda/envs/nlp/lib/python3.6/socket.py\", line 713, in create_connection\n",
      "    sock.connect(sa)\n",
      "KeyboardInterrupt\n"
     ]
    },
    {
     "name": "stdout",
     "output_type": "stream",
     "text": [
      "Say something\n",
      "Time over\n"
     ]
    }
   ],
   "source": [
    "top = tkinter.Tk()\n",
    "top.title(\"Chat On!\")\n",
    "menu= tkinter.Menu(top)\n",
    "top.config(menu=menu)\n",
    "\n",
    "subMenu= tkinter.Menu(menu)\n",
    "menu.add_cascade(label=\"SEND lang\",menu=subMenu)\n",
    "subMenu.add_command(label=\"Hindi\",command=setLang(banda=\"sender\",lang=\"hn\"))\n",
    "subMenu.add_separator()\n",
    "subMenu.add_command(label=\"English\",command=setLang(banda=\"sender\",lang=\"en\"))\n",
    "\n",
    "editMenu= tkinter.Menu(menu)\n",
    "menu.add_cascade(label=\"REC Lang\",menu=editMenu)\n",
    "editMenu.add_command(label=\"Hindi\",command=setLang(banda=\"receiver\",lang=\"hn\"))\n",
    "editMenu.add_separator()\n",
    "editMenu.add_command(label=\"English\",command=setLang(banda=\"receiver\",lang=\"en\"))\n",
    "messages_frame = tkinter.Frame(top)\n",
    "\n",
    "my_msg = tkinter.StringVar()  # For the messages to be sent.\n",
    "my_msg.set(\"\")\n",
    "scrollbar = tkinter.Scrollbar(messages_frame)  # To see through previous messages.\n",
    "# this will contain the messages.\n",
    "msg_list = tkinter.Listbox(messages_frame, height=30, width=100, yscrollcommand=scrollbar.set)\n",
    "scrollbar.pack(side=tkinter.RIGHT, fill=tkinter.Y)\n",
    "msg_list.pack(side=tkinter.LEFT, fill=tkinter.BOTH)\n",
    "msg_list.pack()\n",
    "messages_frame.pack()\n",
    "\n",
    "entry_field = tkinter.Entry(top, textvariable=my_msg)\n",
    "entry_field.bind(\"<Return>\", send)\n",
    "entry_field.pack()\n",
    "send_button = tkinter.Button(top, text=\"Send\", command=send)\n",
    "stat = send_button.pack()\n",
    "msg=\"ytrduyt \"\n",
    "receive_message(msg)\n",
    "\n",
    "top.protocol(\"WM_DELETE_WINDOW\", on_closing)\n",
    "\n",
    "\n",
    "top.mainloop()  # for start of GUI  Interface"
   ]
  },
  {
   "cell_type": "code",
   "execution_count": null,
   "metadata": {},
   "outputs": [],
   "source": []
  }
 ],
 "metadata": {
  "kernelspec": {
   "display_name": "Python 3",
   "language": "python",
   "name": "python3"
  },
  "language_info": {
   "codemirror_mode": {
    "name": "ipython",
    "version": 3
   },
   "file_extension": ".py",
   "mimetype": "text/x-python",
   "name": "python",
   "nbconvert_exporter": "python",
   "pygments_lexer": "ipython3",
   "version": "3.6.8"
  }
 },
 "nbformat": 4,
 "nbformat_minor": 2
}
