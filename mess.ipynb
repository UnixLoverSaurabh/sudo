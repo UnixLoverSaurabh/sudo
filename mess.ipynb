{
 "cells": [
  {
   "cell_type": "code",
   "execution_count": 1,
   "metadata": {},
   "outputs": [],
   "source": [
    "import zulip"
   ]
  },
  {
   "cell_type": "code",
   "execution_count": 3,
   "metadata": {},
   "outputs": [],
   "source": [
    "# Pass the path to your zuliprc file here.\n",
    "client = zulip.Client(config_file=\"./zuliprc\")"
   ]
  },
  {
   "cell_type": "code",
   "execution_count": 10,
   "metadata": {},
   "outputs": [],
   "source": [
    "# Send a stream message\n",
    "request = {\n",
    "    \"type\": \"stream\",\n",
    "    \"to\": \"sunilkv20164012@gmail.com\",\n",
    "    \"subject\": \"Castle\",\n",
    "    \"content\": \"I come not, friends, to steal away your hearts.\"\n",
    "}"
   ]
  },
  {
   "cell_type": "code",
   "execution_count": 11,
   "metadata": {},
   "outputs": [
    {
     "name": "stdout",
     "output_type": "stream",
     "text": [
      "{'result': 'error', 'code': 'STREAM_DOES_NOT_EXIST', 'stream': 'sunilkv20164012@gmail.com', 'msg': \"Stream 'sunilkv20164012@gmail.com' does not exist\"}\n"
     ]
    }
   ],
   "source": [
    "result = client.send_message(request)\n",
    "print(result)"
   ]
  },
  {
   "cell_type": "code",
   "execution_count": 8,
   "metadata": {},
   "outputs": [],
   "source": [
    "# Send a private message\n",
    "request = {\n",
    "    \"type\": \"private\",\n",
    "    \"to\": \"sunilkv20164012@gmail.com\",\n",
    "    \"content\": \"With mirth and laughter let old wrinkles come.\"\n",
    "}"
   ]
  },
  {
   "cell_type": "code",
   "execution_count": 9,
   "metadata": {},
   "outputs": [
    {
     "name": "stdout",
     "output_type": "stream",
     "text": [
      "{'id': 156872335, 'result': 'success', 'msg': ''}\n"
     ]
    }
   ],
   "source": [
    "result = client.send_message(request)\n",
    "print(result)"
   ]
  },
  {
   "cell_type": "code",
   "execution_count": 15,
   "metadata": {},
   "outputs": [],
   "source": [
    "# Upload a file\n",
    "fp = open('mess.py', 'rb')\n",
    "result = client.call_endpoint(\n",
    "    'user_uploads',\n",
    "    method='POST',\n",
    "    files=[fp]\n",
    ")"
   ]
  },
  {
   "cell_type": "code",
   "execution_count": 16,
   "metadata": {},
   "outputs": [
    {
     "name": "stdout",
     "output_type": "stream",
     "text": [
      "{'uri': '/user_uploads/9990/Wwh0_EJ89x569unkSn0YIuYj/mess.py', 'result': 'success', 'msg': ''}\n"
     ]
    }
   ],
   "source": [
    "print(result)"
   ]
  },
  {
   "cell_type": "code",
   "execution_count": null,
   "metadata": {},
   "outputs": [],
   "source": []
  }
 ],
 "metadata": {
  "kernelspec": {
   "display_name": "Python 3",
   "language": "python",
   "name": "python3"
  },
  "language_info": {
   "codemirror_mode": {
    "name": "ipython",
    "version": 3
   },
   "file_extension": ".py",
   "mimetype": "text/x-python",
   "name": "python",
   "nbconvert_exporter": "python",
   "pygments_lexer": "ipython3",
   "version": "3.7.1"
  }
 },
 "nbformat": 4,
 "nbformat_minor": 2
}
