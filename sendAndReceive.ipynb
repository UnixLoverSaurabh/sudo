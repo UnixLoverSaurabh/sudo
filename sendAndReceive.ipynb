{
 "cells": [
  {
   "cell_type": "code",
   "execution_count": 4,
   "metadata": {},
   "outputs": [
    {
     "name": "stdout",
     "output_type": "stream",
     "text": [
      "<p>hi</p>\n",
      "hi\n"
     ]
    },
    {
     "ename": "KeyboardInterrupt",
     "evalue": "",
     "output_type": "error",
     "traceback": [
      "\u001b[0;31m---------------------------------------------------------------------------\u001b[0m",
      "\u001b[0;31mKeyboardInterrupt\u001b[0m                         Traceback (most recent call last)",
      "\u001b[0;32m<ipython-input-4-f416621d1eb8>\u001b[0m in \u001b[0;36m<module>\u001b[0;34m\u001b[0m\n\u001b[1;32m     85\u001b[0m \u001b[0;34m\u001b[0m\u001b[0m\n\u001b[1;32m     86\u001b[0m \u001b[0;32mwhile\u001b[0m \u001b[0;36m1\u001b[0m\u001b[0;34m:\u001b[0m\u001b[0;34m\u001b[0m\u001b[0;34m\u001b[0m\u001b[0m\n\u001b[0;32m---> 87\u001b[0;31m     \u001b[0;32mpass\u001b[0m\u001b[0;34m\u001b[0m\u001b[0;34m\u001b[0m\u001b[0m\n\u001b[0m",
      "\u001b[0;31mKeyboardInterrupt\u001b[0m: "
     ]
    }
   ],
   "source": [
    "import _thread\n",
    "import time\n",
    "import speech_recognition as sr\n",
    "import zulip\n",
    "import sys\n",
    "from gtts import gTTS\n",
    "from pygame import mixer\n",
    "import os\n",
    "\n",
    "# Define a function for the thread\n",
    "def send_message( threadName, delay):\n",
    "    r = sr.Recognizer()\n",
    "    with sr.Microphone() as source:\n",
    "        print(\"Say something\")\n",
    "        r.adjust_for_ambient_noise(source)\n",
    "        audio = r.listen(source,timeout=5)\n",
    "        print(\"Time over\")\n",
    "\n",
    "\n",
    "\n",
    "    cont = r.recognize_google(audio, language='hi-IN')\n",
    "    print(\"TEXT: \" + cont)\n",
    "\n",
    "\n",
    "    # Pass the path to your zuliprc file here.\n",
    "    client = zulip.Client(config_file=\"./zuliprc\")\n",
    "\n",
    "    # Send a stream message\n",
    "    request = {\n",
    "       \"type\": \"private\",\n",
    "       \"to\": \"nlp-bot@unixloversaurabh.zulipchat.com\",\n",
    "       \"subject\": \"Castle\",\n",
    "       \"content\": cont\n",
    "    }\n",
    "    result = client.send_message(request)\n",
    "    print(result)\n",
    "    print(result['messages'][0]['content'])\n",
    "    mess=result['messages'][0]['content']\n",
    "\n",
    "\n",
    "def print_timeThread2( threadName, delay):\n",
    "    # Pass the path to your zuliprc file here.\n",
    "    client = zulip.Client(config_file=\"./zuliprc\")\n",
    "    # Get the 3 last messages sent by \"iago@zulip.com\" to the stream \"Verona\"\n",
    "    request = {\n",
    "       'use_first_unread_anchor': True,\n",
    "       'num_before': 1,\n",
    "       'num_after': 0,\n",
    "       'narrow': [{'operator': 'sender', 'operand': 'nlp-bot@unixloversaurabh.zulipchat.com'},\n",
    "                  {'operator': 'is', 'operand': 'private'}],\n",
    "       'client_gravatar': True,\n",
    "       'apply_markdown': True\n",
    "    }  # type: Dict[str, Any]\n",
    "    result = client.get_messages(request)\n",
    "    print(result['messages'][0]['content'])\n",
    "    mess=result['messages'][0]['content']\n",
    "    print(mess[3:-4])\n",
    "    mixer.init()\n",
    "    # Get the text and convert to mp3 file\n",
    "    tts = gTTS(text=mess[3:-4], lang='en',slow=False)\n",
    "    tts.save('speech{}.mp3'.format(0))\n",
    "    # playback the speech\n",
    "    mixer.music.load('speech{}.mp3'.format(0))\n",
    "    mixer.music.play()\n",
    "    # wait for playback to end\n",
    "    while mixer.music.get_busy():\n",
    "        time.sleep(.1)\n",
    "    mixer.stop()\n",
    "\n",
    "   # try to remove the temp files. You'll likely be left with 1 to clean up\n",
    "    try:\n",
    "        os.remove('speech0.mp3')\n",
    "    except:\n",
    "        pass\n",
    "\n",
    "\n",
    "\n",
    "\n",
    "# Create two threads as follows\n",
    "try:\n",
    "   #_thread.start_new_thread( send_message, (\"Thread-1\", 2, ) )\n",
    "   _thread.start_new_thread( print_timeThread2, (\"Thread-2\", 4, ) )\n",
    "except:\n",
    "    print (\"Error: unable to start thread\")\n",
    "\n",
    "while 1:\n",
    "    pass"
   ]
  },
  {
   "cell_type": "code",
   "execution_count": null,
   "metadata": {},
   "outputs": [],
   "source": []
  }
 ],
 "metadata": {
  "kernelspec": {
   "display_name": "Python 3",
   "language": "python",
   "name": "python3"
  },
  "language_info": {
   "codemirror_mode": {
    "name": "ipython",
    "version": 3
   },
   "file_extension": ".py",
   "mimetype": "text/x-python",
   "name": "python",
   "nbconvert_exporter": "python",
   "pygments_lexer": "ipython3",
   "version": "3.7.1"
  }
 },
 "nbformat": 4,
 "nbformat_minor": 2
}
