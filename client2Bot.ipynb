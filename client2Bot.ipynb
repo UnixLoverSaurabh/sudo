{
 "cells": [
  {
   "cell_type": "code",
   "execution_count": 41,
   "metadata": {},
   "outputs": [
    {
     "name": "stdout",
     "output_type": "stream",
     "text": [
      "Say something\n",
      "Time over\n",
      "TEXT: क्या हाल चाल है भाई\n",
      "{'id': 156914216, 'result': 'success', 'msg': ''}\n"
     ]
    }
   ],
   "source": [
    "import speech_recognition as sr\n",
    "import zulip\n",
    "\n",
    "r = sr.Recognizer()\n",
    "\n",
    "with sr.Microphone() as source:\n",
    "    print(\"Say something\")\n",
    "    r.adjust_for_ambient_noise(source)\n",
    "    audio = r.listen(source,timeout=5)\n",
    "    print(\"Time over\")\n",
    "\n",
    "\n",
    "\n",
    "cont = r.recognize_google(audio, language='hi-IN')\n",
    "print(\"TEXT: \" + cont)\n",
    "\n",
    "\n",
    "# Pass the path to your zuliprc file here.\n",
    "client = zulip.Client(config_file=\"./zuliprc\")\n",
    "\n",
    "# Send a stream message\n",
    "request = {\n",
    "    \"type\": \"private\",\n",
    "    \"to\": \"nlp-bot@unixloversaurabh.zulipchat.com\",\n",
    "    \"subject\": \"Castle\",\n",
    "    \"content\": cont\n",
    "}\n",
    "result = client.send_message(request)\n",
    "print(result)"
   ]
  },
  {
   "cell_type": "code",
   "execution_count": null,
   "metadata": {},
   "outputs": [],
   "source": []
  },
  {
   "cell_type": "code",
   "execution_count": null,
   "metadata": {},
   "outputs": [],
   "source": []
  }
 ],
 "metadata": {
  "kernelspec": {
   "display_name": "Python 3",
   "language": "python",
   "name": "python3"
  },
  "language_info": {
   "codemirror_mode": {
    "name": "ipython",
    "version": 3
   },
   "file_extension": ".py",
   "mimetype": "text/x-python",
   "name": "python",
   "nbconvert_exporter": "python",
   "pygments_lexer": "ipython3",
   "version": "3.6.7"
  }
 },
 "nbformat": 4,
 "nbformat_minor": 2
}
