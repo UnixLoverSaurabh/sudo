{
 "cells": [
  {
   "cell_type": "code",
   "execution_count": 9,
   "metadata": {},
   "outputs": [],
   "source": [
    "import zulip\n",
    "\n",
    "# Pass the path to your zuliprc file here.\n",
    "client = zulip.Client(config_file=\"zuliprc\")\n",
    "# Get the 3 last messages sent by \"iago@zulip.com\" to the stream \"Verona\"\n",
    "request = {\n",
    "    'use_first_unread_anchor': True,\n",
    "    'num_before': 1,\n",
    "    'num_after': 0,\n",
    "    'narrow': [{'operator': 'sender', 'operand': 'nlp-bot@unixloversaurabh.zulipchat.com'},\n",
    "               {'operator': 'is', 'operand': 'private'}],\n",
    "    'client_gravatar': True,\n",
    "    'apply_markdown': True\n",
    "}  # type: Dict[str, Any]\n",
    "\n",
    "result = client.get_messages(request)"
   ]
  },
  {
   "cell_type": "code",
   "execution_count": 10,
   "metadata": {},
   "outputs": [
    {
     "name": "stdout",
     "output_type": "stream",
     "text": [
      "<p>hi</p>\n"
     ]
    }
   ],
   "source": [
    "print(result['messages'][0]['content'])\n",
    "mess=result['messages'][0]['content']"
   ]
  },
  {
   "cell_type": "code",
   "execution_count": 8,
   "metadata": {},
   "outputs": [
    {
     "name": "stdout",
     "output_type": "stream",
     "text": [
      "pygame 1.9.4\n",
      "Hello from the pygame community. https://www.pygame.org/contribute.html\n",
      "What would you like me to say?\n",
      "python3.5 -m pip install pytube\n"
     ]
    }
   ],
   "source": [
    "\n",
    "#!/usr/bin/env python\n",
    "import sys\n",
    "from gtts import gTTS\n",
    "from pygame import mixer\n",
    "import time\n",
    "import os\n",
    "\n",
    "\n",
    "print(\"What would you like me to say?\")\n",
    "values = input()\n",
    "\n",
    "mixer.init()\n",
    "# Get the text and convert to mp3 file\n",
    "tts = gTTS(text=values, lang='en',slow=False)\n",
    "tts.save('speech{}.mp3'.format(0))\n",
    "# playback the speech\n",
    "mixer.music.load('speech{}.mp3'.format(0))\n",
    "mixer.music.play()\n",
    "# wait for playback to end\n",
    "while mixer.music.get_busy():\n",
    "    time.sleep(.1)\n",
    "mixer.stop()\n",
    "\n",
    "# try to remove the temp files. You'll likely be left with 1 to clean up\n",
    "try:\n",
    "    os.remove('speech0.mp3')\n",
    "except:\n",
    "    pass"
   ]
  }
 ],
 "metadata": {
  "kernelspec": {
   "display_name": "Python 3",
   "language": "python",
   "name": "python3"
  },
  "language_info": {
   "codemirror_mode": {
    "name": "ipython",
    "version": 3
   },
   "file_extension": ".py",
   "mimetype": "text/x-python",
   "name": "python",
   "nbconvert_exporter": "python",
   "pygments_lexer": "ipython3",
   "version": "3.7.1"
  }
 },
 "nbformat": 4,
 "nbformat_minor": 2
}
